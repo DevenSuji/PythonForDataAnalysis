{
  "nbformat": 4,
  "nbformat_minor": 0,
  "metadata": {
    "colab": {
      "name": "Lists.ipynb",
      "provenance": [],
      "private_outputs": true
    },
    "kernelspec": {
      "name": "python3",
      "display_name": "Python 3"
    }
  },
  "cells": [
    {
      "cell_type": "markdown",
      "metadata": {
        "id": "wwElsQqGEwIR",
        "colab_type": "text"
      },
      "source": [
        "# Data Structures: Lists"
      ]
    },
    {
      "cell_type": "code",
      "metadata": {
        "id": "RKPxNRmjd1Ni",
        "colab_type": "code",
        "colab": {}
      },
      "source": [
        "my_var = 4"
      ],
      "execution_count": null,
      "outputs": []
    },
    {
      "cell_type": "markdown",
      "metadata": {
        "id": "k5bP3TEOEu8S",
        "colab_type": "text"
      },
      "source": [
        ""
      ]
    },
    {
      "cell_type": "code",
      "metadata": {
        "id": "uwDdtdmszcCR",
        "colab_type": "code",
        "colab": {}
      },
      "source": [
        "# Initialize a new list. Can contain heterogeneous types\n",
        "my_list = [1, 'Deven', [1, 2, 3], my_var]"
      ],
      "execution_count": null,
      "outputs": []
    },
    {
      "cell_type": "code",
      "metadata": {
        "id": "6mTDrZdDzftG",
        "colab_type": "code",
        "colab": {}
      },
      "source": [
        "# Indexing\n",
        "my_list[1]"
      ],
      "execution_count": null,
      "outputs": []
    },
    {
      "cell_type": "code",
      "metadata": {
        "id": "cjrbqgsyFnb4",
        "colab_type": "code",
        "colab": {}
      },
      "source": [
        "# Slicing\n",
        "my_list[:2]"
      ],
      "execution_count": null,
      "outputs": []
    },
    {
      "cell_type": "code",
      "metadata": {
        "id": "4ZDSLIOMF0xY",
        "colab_type": "code",
        "colab": {}
      },
      "source": [
        "# Negative Idexing\n",
        "my_list[:-1]"
      ],
      "execution_count": null,
      "outputs": []
    },
    {
      "cell_type": "code",
      "metadata": {
        "id": "wi3zNZr3GAkT",
        "colab_type": "code",
        "colab": {}
      },
      "source": [
        "# In-place append\n",
        "my_list.append(10)\n",
        "print(my_list)"
      ],
      "execution_count": null,
      "outputs": []
    },
    {
      "cell_type": "code",
      "metadata": {
        "id": "SCoDFr_1GRC2",
        "colab_type": "code",
        "colab": {}
      },
      "source": [
        "# Item assignment\n",
        "my_list[2] = 'Likitha'\n",
        "print(my_list)"
      ],
      "execution_count": null,
      "outputs": []
    },
    {
      "cell_type": "code",
      "metadata": {
        "id": "DaaS0NzZGakU",
        "colab_type": "code",
        "colab": {}
      },
      "source": [
        "# Concatenate Two Lists\n",
        "my_list + [11, 12, 'Love', 'Lust']"
      ],
      "execution_count": null,
      "outputs": []
    },
    {
      "cell_type": "code",
      "metadata": {
        "id": "KGKuxMZ3G13W",
        "colab_type": "code",
        "colab": {}
      },
      "source": [
        "# Concatenate and Update\n",
        "my_list += [11, 12, 'Love', 'Lust']\n",
        "print(my_list)"
      ],
      "execution_count": null,
      "outputs": []
    },
    {
      "cell_type": "code",
      "metadata": {
        "id": "ZXWwAoD8HXxP",
        "colab_type": "code",
        "colab": {}
      },
      "source": [
        "num_list = [3, 2, 7, 4, 9, 8]"
      ],
      "execution_count": null,
      "outputs": []
    },
    {
      "cell_type": "code",
      "metadata": {
        "id": "4xQ6XeTeHeIe",
        "colab_type": "code",
        "colab": {}
      },
      "source": [
        "# Sorting\n",
        "# This method of sorting does not make a change in the order of the items in the list. It just presents us a sorted output.\n",
        "sorted(num_list)"
      ],
      "execution_count": null,
      "outputs": []
    },
    {
      "cell_type": "code",
      "metadata": {
        "id": "9OTGIr5VHhxs",
        "colab_type": "code",
        "colab": {}
      },
      "source": [
        "# Inplace Sorting\n",
        "# This method of sorting sorts the items in the list permanently. \n",
        "num_list.sort() # This does not show the output but just sorts. We have to explicitly print the output once it is sorted out.\n",
        "print(num_list)"
      ],
      "execution_count": null,
      "outputs": []
    },
    {
      "cell_type": "code",
      "metadata": {
        "id": "r9VdRA4PH4bf",
        "colab_type": "code",
        "colab": {}
      },
      "source": [
        "num_list"
      ],
      "execution_count": null,
      "outputs": []
    }
  ]
}