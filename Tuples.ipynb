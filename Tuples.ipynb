{
  "nbformat": 4,
  "nbformat_minor": 0,
  "metadata": {
    "colab": {
      "name": "Tuples.ipynb",
      "provenance": [],
      "private_outputs": true,
      "authorship_tag": "ABX9TyPiQJoX1vnhKFoHUWAhz0Ea",
      "include_colab_link": true
    },
    "kernelspec": {
      "name": "python3",
      "display_name": "Python 3"
    }
  },
  "cells": [
    {
      "cell_type": "markdown",
      "metadata": {
        "id": "view-in-github",
        "colab_type": "text"
      },
      "source": [
        "<a href=\"https://colab.research.google.com/github/DevenSuji/PythonForDataAnalysis/blob/master/Tuples.ipynb\" target=\"_parent\"><img src=\"https://colab.research.google.com/assets/colab-badge.svg\" alt=\"Open In Colab\"/></a>"
      ]
    },
    {
      "cell_type": "code",
      "metadata": {
        "id": "5Pc15rMIQZ2c",
        "colab_type": "code",
        "colab": {}
      },
      "source": [
        "tup = ('hello', 2, 3)"
      ],
      "execution_count": null,
      "outputs": []
    },
    {
      "cell_type": "code",
      "metadata": {
        "id": "0cM479vnQib6",
        "colab_type": "code",
        "colab": {}
      },
      "source": [
        "# Indexing \n",
        "tup[0]"
      ],
      "execution_count": null,
      "outputs": []
    },
    {
      "cell_type": "code",
      "metadata": {
        "id": "nTTyh7K8QtPx",
        "colab_type": "code",
        "colab": {}
      },
      "source": [
        "# Tuples are immutable\n",
        "# Here we are trying to assign number 5 to the 1st position in the tuple and we'll get an error\n",
        "tup[1] = 5"
      ],
      "execution_count": null,
      "outputs": []
    }
  ]
}